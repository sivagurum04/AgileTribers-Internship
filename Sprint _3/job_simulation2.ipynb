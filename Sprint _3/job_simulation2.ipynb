{
 "cells": [
  {
   "cell_type": "code",
   "execution_count": 1,
   "id": "b6ea7fb6",
   "metadata": {},
   "outputs": [
    {
     "name": "stdout",
     "output_type": "stream",
     "text": [
      "Mean difference (Before - After): -3.10\n",
      "T-statistic: -11.1959\n",
      "One-tailed p-value: 0.0000\n"
     ]
    }
   ],
   "source": [
    "import numpy as np\n",
    "from scipy.stats import ttest_rel\n",
    "\n",
    "# Typing speed data\n",
    "before = np.array([52, 47, 58, 43, 50, 46, 49, 53, 48, 51])\n",
    "after  = np.array([56, 50, 60, 45, 54, 48, 53, 56, 51, 55])\n",
    "\n",
    "# Calculate the differences (Before - After)\n",
    "diff = before - after\n",
    "\n",
    "# Paired two-tailed t-test\n",
    "t_stat, p_value_two_tailed = ttest_rel(before, after)\n",
    "\n",
    "# Convert to one-tailed p-value\n",
    "p_value_one_tailed = p_value_two_tailed / 2\n",
    "\n",
    "# Print results\n",
    "print(f\"Mean difference (Before - After): {diff.mean():.2f}\")\n",
    "print(f\"T-statistic: {t_stat:.4f}\")\n",
    "print(f\"One-tailed p-value: {p_value_one_tailed:.4f}\")\n"
   ]
  },
  {
   "cell_type": "code",
   "execution_count": 3,
   "id": "5ab74377",
   "metadata": {},
   "outputs": [
    {
     "name": "stdout",
     "output_type": "stream",
     "text": [
      " Reject the null hypothesis: Training significantly improved typing speed.\n"
     ]
    }
   ],
   "source": [
    "alpha = 0.05\n",
    "\n",
    "if (p_value_one_tailed < alpha) and (diff.mean() < 0):\n",
    "    print(\" Reject the null hypothesis: Training significantly improved typing speed.\")\n",
    "else:\n",
    "    print(\" Fail to reject the null hypothesis: No significant improvement detected.\")\n"
   ]
  }
 ],
 "metadata": {
  "kernelspec": {
   "display_name": "Python 3",
   "language": "python",
   "name": "python3"
  },
  "language_info": {
   "codemirror_mode": {
    "name": "ipython",
    "version": 3
   },
   "file_extension": ".py",
   "mimetype": "text/x-python",
   "name": "python",
   "nbconvert_exporter": "python",
   "pygments_lexer": "ipython3",
   "version": "3.13.3"
  }
 },
 "nbformat": 4,
 "nbformat_minor": 5
}
