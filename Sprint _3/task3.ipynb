{
 "cells": [
  {
   "cell_type": "code",
   "execution_count": null,
   "id": "c137970f",
   "metadata": {},
   "outputs": [
    {
     "data": {
      "text/html": [
       "<div>\n",
       "<style scoped>\n",
       "    .dataframe tbody tr th:only-of-type {\n",
       "        vertical-align: middle;\n",
       "    }\n",
       "\n",
       "    .dataframe tbody tr th {\n",
       "        vertical-align: top;\n",
       "    }\n",
       "\n",
       "    .dataframe thead th {\n",
       "        text-align: right;\n",
       "    }\n",
       "</style>\n",
       "<table border=\"1\" class=\"dataframe\">\n",
       "  <thead>\n",
       "    <tr style=\"text-align: right;\">\n",
       "      <th></th>\n",
       "      <th>PassengerId</th>\n",
       "      <th>Survived</th>\n",
       "      <th>Pclass</th>\n",
       "      <th>Name</th>\n",
       "      <th>Sex</th>\n",
       "      <th>Age</th>\n",
       "      <th>SibSp</th>\n",
       "      <th>Parch</th>\n",
       "      <th>Ticket</th>\n",
       "      <th>Fare</th>\n",
       "      <th>Cabin</th>\n",
       "      <th>Embarked</th>\n",
       "    </tr>\n",
       "  </thead>\n",
       "  <tbody>\n",
       "    <tr>\n",
       "      <th>0</th>\n",
       "      <td>1</td>\n",
       "      <td>0</td>\n",
       "      <td>3</td>\n",
       "      <td>Braund, Mr. Owen Harris</td>\n",
       "      <td>male</td>\n",
       "      <td>22.0</td>\n",
       "      <td>1</td>\n",
       "      <td>0</td>\n",
       "      <td>A/5 21171</td>\n",
       "      <td>7.2500</td>\n",
       "      <td>NaN</td>\n",
       "      <td>S</td>\n",
       "    </tr>\n",
       "    <tr>\n",
       "      <th>1</th>\n",
       "      <td>2</td>\n",
       "      <td>1</td>\n",
       "      <td>1</td>\n",
       "      <td>Cumings, Mrs. John Bradley (Florence Briggs Th...</td>\n",
       "      <td>female</td>\n",
       "      <td>38.0</td>\n",
       "      <td>1</td>\n",
       "      <td>0</td>\n",
       "      <td>PC 17599</td>\n",
       "      <td>71.2833</td>\n",
       "      <td>C85</td>\n",
       "      <td>C</td>\n",
       "    </tr>\n",
       "    <tr>\n",
       "      <th>2</th>\n",
       "      <td>3</td>\n",
       "      <td>1</td>\n",
       "      <td>3</td>\n",
       "      <td>Heikkinen, Miss. Laina</td>\n",
       "      <td>female</td>\n",
       "      <td>26.0</td>\n",
       "      <td>0</td>\n",
       "      <td>0</td>\n",
       "      <td>STON/O2. 3101282</td>\n",
       "      <td>7.9250</td>\n",
       "      <td>NaN</td>\n",
       "      <td>S</td>\n",
       "    </tr>\n",
       "    <tr>\n",
       "      <th>3</th>\n",
       "      <td>4</td>\n",
       "      <td>1</td>\n",
       "      <td>1</td>\n",
       "      <td>Futrelle, Mrs. Jacques Heath (Lily May Peel)</td>\n",
       "      <td>female</td>\n",
       "      <td>35.0</td>\n",
       "      <td>1</td>\n",
       "      <td>0</td>\n",
       "      <td>113803</td>\n",
       "      <td>53.1000</td>\n",
       "      <td>C123</td>\n",
       "      <td>S</td>\n",
       "    </tr>\n",
       "    <tr>\n",
       "      <th>4</th>\n",
       "      <td>5</td>\n",
       "      <td>0</td>\n",
       "      <td>3</td>\n",
       "      <td>Allen, Mr. William Henry</td>\n",
       "      <td>male</td>\n",
       "      <td>35.0</td>\n",
       "      <td>0</td>\n",
       "      <td>0</td>\n",
       "      <td>373450</td>\n",
       "      <td>8.0500</td>\n",
       "      <td>NaN</td>\n",
       "      <td>S</td>\n",
       "    </tr>\n",
       "    <tr>\n",
       "      <th>...</th>\n",
       "      <td>...</td>\n",
       "      <td>...</td>\n",
       "      <td>...</td>\n",
       "      <td>...</td>\n",
       "      <td>...</td>\n",
       "      <td>...</td>\n",
       "      <td>...</td>\n",
       "      <td>...</td>\n",
       "      <td>...</td>\n",
       "      <td>...</td>\n",
       "      <td>...</td>\n",
       "      <td>...</td>\n",
       "    </tr>\n",
       "    <tr>\n",
       "      <th>886</th>\n",
       "      <td>887</td>\n",
       "      <td>0</td>\n",
       "      <td>2</td>\n",
       "      <td>Montvila, Rev. Juozas</td>\n",
       "      <td>male</td>\n",
       "      <td>27.0</td>\n",
       "      <td>0</td>\n",
       "      <td>0</td>\n",
       "      <td>211536</td>\n",
       "      <td>13.0000</td>\n",
       "      <td>NaN</td>\n",
       "      <td>S</td>\n",
       "    </tr>\n",
       "    <tr>\n",
       "      <th>887</th>\n",
       "      <td>888</td>\n",
       "      <td>1</td>\n",
       "      <td>1</td>\n",
       "      <td>Graham, Miss. Margaret Edith</td>\n",
       "      <td>female</td>\n",
       "      <td>19.0</td>\n",
       "      <td>0</td>\n",
       "      <td>0</td>\n",
       "      <td>112053</td>\n",
       "      <td>30.0000</td>\n",
       "      <td>B42</td>\n",
       "      <td>S</td>\n",
       "    </tr>\n",
       "    <tr>\n",
       "      <th>888</th>\n",
       "      <td>889</td>\n",
       "      <td>0</td>\n",
       "      <td>3</td>\n",
       "      <td>Johnston, Miss. Catherine Helen \"Carrie\"</td>\n",
       "      <td>female</td>\n",
       "      <td>NaN</td>\n",
       "      <td>1</td>\n",
       "      <td>2</td>\n",
       "      <td>W./C. 6607</td>\n",
       "      <td>23.4500</td>\n",
       "      <td>NaN</td>\n",
       "      <td>S</td>\n",
       "    </tr>\n",
       "    <tr>\n",
       "      <th>889</th>\n",
       "      <td>890</td>\n",
       "      <td>1</td>\n",
       "      <td>1</td>\n",
       "      <td>Behr, Mr. Karl Howell</td>\n",
       "      <td>male</td>\n",
       "      <td>26.0</td>\n",
       "      <td>0</td>\n",
       "      <td>0</td>\n",
       "      <td>111369</td>\n",
       "      <td>30.0000</td>\n",
       "      <td>C148</td>\n",
       "      <td>C</td>\n",
       "    </tr>\n",
       "    <tr>\n",
       "      <th>890</th>\n",
       "      <td>891</td>\n",
       "      <td>0</td>\n",
       "      <td>3</td>\n",
       "      <td>Dooley, Mr. Patrick</td>\n",
       "      <td>male</td>\n",
       "      <td>32.0</td>\n",
       "      <td>0</td>\n",
       "      <td>0</td>\n",
       "      <td>370376</td>\n",
       "      <td>7.7500</td>\n",
       "      <td>NaN</td>\n",
       "      <td>Q</td>\n",
       "    </tr>\n",
       "  </tbody>\n",
       "</table>\n",
       "<p>891 rows × 12 columns</p>\n",
       "</div>"
      ],
      "text/plain": [
       "     PassengerId  Survived  Pclass  \\\n",
       "0              1         0       3   \n",
       "1              2         1       1   \n",
       "2              3         1       3   \n",
       "3              4         1       1   \n",
       "4              5         0       3   \n",
       "..           ...       ...     ...   \n",
       "886          887         0       2   \n",
       "887          888         1       1   \n",
       "888          889         0       3   \n",
       "889          890         1       1   \n",
       "890          891         0       3   \n",
       "\n",
       "                                                  Name     Sex   Age  SibSp  \\\n",
       "0                              Braund, Mr. Owen Harris    male  22.0      1   \n",
       "1    Cumings, Mrs. John Bradley (Florence Briggs Th...  female  38.0      1   \n",
       "2                               Heikkinen, Miss. Laina  female  26.0      0   \n",
       "3         Futrelle, Mrs. Jacques Heath (Lily May Peel)  female  35.0      1   \n",
       "4                             Allen, Mr. William Henry    male  35.0      0   \n",
       "..                                                 ...     ...   ...    ...   \n",
       "886                              Montvila, Rev. Juozas    male  27.0      0   \n",
       "887                       Graham, Miss. Margaret Edith  female  19.0      0   \n",
       "888           Johnston, Miss. Catherine Helen \"Carrie\"  female   NaN      1   \n",
       "889                              Behr, Mr. Karl Howell    male  26.0      0   \n",
       "890                                Dooley, Mr. Patrick    male  32.0      0   \n",
       "\n",
       "     Parch            Ticket     Fare Cabin Embarked  \n",
       "0        0         A/5 21171   7.2500   NaN        S  \n",
       "1        0          PC 17599  71.2833   C85        C  \n",
       "2        0  STON/O2. 3101282   7.9250   NaN        S  \n",
       "3        0            113803  53.1000  C123        S  \n",
       "4        0            373450   8.0500   NaN        S  \n",
       "..     ...               ...      ...   ...      ...  \n",
       "886      0            211536  13.0000   NaN        S  \n",
       "887      0            112053  30.0000   B42        S  \n",
       "888      2        W./C. 6607  23.4500   NaN        S  \n",
       "889      0            111369  30.0000  C148        C  \n",
       "890      0            370376   7.7500   NaN        Q  \n",
       "\n",
       "[891 rows x 12 columns]"
      ]
     },
     "execution_count": 2,
     "metadata": {},
     "output_type": "execute_result"
    }
   ],
   "source": [
    "import numpy as np\n",
    "import pandas as pd\n",
    "#from numpy import randn\n",
    "from scipy.stats import skew, kurtosis, mode\n",
    "df = pd.read_excel(\"Titanic.xlsx\")\n",
    "df"
   ]
  },
  {
   "cell_type": "code",
   "execution_count": 9,
   "id": "e8cc25ad",
   "metadata": {},
   "outputs": [
    {
     "name": "stdout",
     "output_type": "stream",
     "text": [
      "29.69911764705882\n"
     ]
    }
   ],
   "source": [
    "mean =df[\"Age\"].mean()\n",
    "print(mean)"
   ]
  },
  {
   "cell_type": "code",
   "execution_count": 12,
   "id": "f3fe0999",
   "metadata": {},
   "outputs": [
    {
     "name": "stdout",
     "output_type": "stream",
     "text": [
      "14.4542\n"
     ]
    }
   ],
   "source": [
    "median = df[\"Fare\"].median()\n",
    "print(median)"
   ]
  },
  {
   "cell_type": "code",
   "execution_count": 14,
   "id": "5a9e1cc4",
   "metadata": {},
   "outputs": [
    {
     "name": "stdout",
     "output_type": "stream",
     "text": [
      "S\n"
     ]
    }
   ],
   "source": [
    "mode_emb=df[\"Embarked\"].mode()[0]\n",
    "print(mode_emb)"
   ]
  },
  {
   "cell_type": "code",
   "execution_count": 24,
   "id": "c07db398",
   "metadata": {},
   "outputs": [
    {
     "name": "stdout",
     "output_type": "stream",
     "text": [
      "             mean   median   mode\n",
      "Pclass                           \n",
      "1       84.154687  60.2875  26.55\n",
      "2       20.662183  14.2500  13.00\n",
      "3       13.675550   8.0500   8.05\n"
     ]
    }
   ],
   "source": [
    "fare_stats = df.groupby('Pclass')['Fare'].agg(['mean', 'median', lambda x: mode(x)[0]])\n",
    "fare_stats.rename(columns={\"<lambda_0>\": \"mode\"}, inplace=True)\n",
    "print(fare_stats)"
   ]
  },
  {
   "cell_type": "code",
   "execution_count": 26,
   "id": "8d7ec208",
   "metadata": {},
   "outputs": [
    {
     "name": "stdout",
     "output_type": "stream",
     "text": [
      "0.5230078563411896 \n",
      " 0.0\n"
     ]
    }
   ],
   "source": [
    "sibs_mean=df[\"SibSp\"].mean()\n",
    "sibs_median=df[\"SibSp\"].median()\n",
    "print(sibs_mean,\"\\n\",sibs_median)"
   ]
  },
  {
   "cell_type": "code",
   "execution_count": 29,
   "id": "7bf2a732",
   "metadata": {},
   "outputs": [
    {
     "name": "stdout",
     "output_type": "stream",
     "text": [
      "4.7792532923723545\n",
      "0.16863657224286044 \n",
      " 0.16863657224286044\n"
     ]
    }
   ],
   "source": [
    "fare_skew = skew(df['Fare'].dropna())\n",
    "age_kurtosis = kurtosis(df['Age'].dropna())\n",
    "parch_skew = skew(df['Parch'])\n",
    "print(fare_skew)\n",
    "print(age_kurtosis,\"\\n\",age_kurtosis)"
   ]
  },
  {
   "cell_type": "code",
   "execution_count": 30,
   "id": "630a5b90",
   "metadata": {},
   "outputs": [
    {
     "name": "stdout",
     "output_type": "stream",
     "text": [
      "0.4777174662568536 \n",
      " -1.7717860224331319\n"
     ]
    }
   ],
   "source": [
    "survived_skew = skew(df['Survived'])\n",
    "survived_kurt = kurtosis(df['Survived'])\n",
    "print(survived_skew,\"\\n\",survived_kurt)"
   ]
  },
  {
   "cell_type": "code",
   "execution_count": 6,
   "id": "744ebe65",
   "metadata": {},
   "outputs": [],
   "source": [
    "age_skew = skew(df['Age'].dropna())\n",
    "fare_kurt = kurtosis(df['Fare'].dropna())"
   ]
  },
  {
   "cell_type": "code",
   "execution_count": 9,
   "id": "445cc213",
   "metadata": {},
   "outputs": [
    {
     "name": "stdout",
     "output_type": "stream",
     "text": [
      "3.0\n",
      "1.4142135623730951\n"
     ]
    }
   ],
   "source": [
    "Exp=[1,2,3,4,5]\n",
    "Salary=[1000,2500,4000,5000,7000]\n",
    "mean=np.mean(Exp)\n",
    "std=np.std(Exp)\n",
    "print(mean)\n",
    "print(std)"
   ]
  },
  {
   "cell_type": "code",
   "execution_count": 19,
   "id": "a295644f",
   "metadata": {},
   "outputs": [
    {
     "name": "stdout",
     "output_type": "stream",
     "text": [
      "[np.float64(-1.414213562373095), np.float64(-0.7071067811865475), np.float64(0.0), np.float64(0.7071067811865475), np.float64(1.414213562373095)]\n"
     ]
    }
   ],
   "source": [
    "standardised_exp=[(i-mean)/std for i in Exp]\n",
    "print(standardised_exp)"
   ]
  },
  {
   "cell_type": "code",
   "execution_count": 17,
   "id": "32308b7a",
   "metadata": {},
   "outputs": [
    {
     "name": "stdout",
     "output_type": "stream",
     "text": [
      "3900.0\n",
      "2059.1260281974\n",
      "[np.float64(-1.4083645004180332), np.float64(-0.6799001036500849), np.float64(0.04856429311786321), np.float64(0.5342072242964953), np.float64(1.5054930866537595)]\n"
     ]
    }
   ],
   "source": [
    "mean_salary = np.mean(Salary)\n",
    "std_salary = np.std(Salary)\n",
    "Standardized_salary = [(i - mean_salary)/std_salary for i in Salary]\n",
    "print(mean_salary)\n",
    "print(std_salary)\n",
    "print(Standardized_salary)"
   ]
  },
  {
   "cell_type": "code",
   "execution_count": 25,
   "id": "68512329",
   "metadata": {},
   "outputs": [
    {
     "name": "stdout",
     "output_type": "stream",
     "text": [
      "                              0            1            2            3  \\\n",
      "Exp                    1.000000     2.000000     3.000000     4.000000   \n",
      "Salary              1000.000000  2500.000000  4000.000000  5000.000000   \n",
      "standardised_value    -1.414214    -0.707107     0.000000     0.707107   \n",
      "std_salary            -1.408365    -0.679900     0.048564     0.534207   \n",
      "\n",
      "                              4  \n",
      "Exp                    5.000000  \n",
      "Salary              7000.000000  \n",
      "standardised_value     1.414214  \n",
      "std_salary             1.505493  \n"
     ]
    }
   ],
   "source": [
    "df_std=pd.DataFrame([Exp, Salary, standardised_exp, Standardized_salary],index=[\"Exp\",\"Salary\",\"standardised_value\",\"std_salary\"])\n",
    "print(df_std)"
   ]
  },
  {
   "cell_type": "code",
   "execution_count": 23,
   "id": "4afaf76c",
   "metadata": {},
   "outputs": [],
   "source": [
    "mean_std_exp = np.mean(standardised_exp)\n",
    "std_std_exp = np.std(standardised_exp)\n",
    "mean_std_salary = np.mean(Standardized_salary)\n",
    "std_std_salary = np.std(Standardized_salary)"
   ]
  },
  {
   "cell_type": "code",
   "execution_count": null,
   "id": "51a15fea",
   "metadata": {},
   "outputs": [
    {
     "data": {
      "image/png": "[encoded data removed]",
      "text/plain": [
       "<Figure size 640x480 with 1 Axes>"
      ]
     },
     "metadata": {},
     "output_type": "display_data"
    }
   ],
   "source": [
    "from scipy import stats\n",
    "import pandas as pd\n",
    "import matplotlib.pyplot as plt\n",
    "\n",
    "# Step 2 - Generate data\n",
    "data = stats.norm.rvs(loc=50, scale=20, size=100)\n",
    "\n",
    "# Step 3 - Convert to DataFrame\n",
    "df = pd.DataFrame(data, columns=['Values'])\n",
    "\n",
    "# Step 4 - Plot density curve\n",
    "df.plot.density(title='Normal Distribution')\n",
    "\n",
    "# Step 5 - Compute mean & median\n",
    "mean_val = df['Values'].mean()\n",
    "median_val = df['Values'].median()\n"
   ]
  },
  {
   "cell_type": "code",
   "execution_count": 5,
   "id": "69d445f2",
   "metadata": {},
   "outputs": [],
   "source": [
    "# H0: μ = 168, H1: μ ≠ 168\n",
    "pop_mean = 168\n",
    "pop_std = 3.9\n",
    "sample_size = 36\n",
    "sample_mean = 169.5\n",
    "\n",
    "# Z-score\n",
    "z_score = (sample_mean - pop_mean) / (pop_std / np.sqrt(sample_size))\n",
    "\n",
    "# Z critical (two-tailed, 95%)\n",
    "z_critical = stats.norm.ppf(1 - 0.05/2)\n",
    "\n",
    "# Conclusion\n",
    "reject_null = abs(z_score) > z_critical"
   ]
  },
  {
   "cell_type": "code",
   "execution_count": 6,
   "id": "9abafb86",
   "metadata": {},
   "outputs": [
    {
     "name": "stdout",
     "output_type": "stream",
     "text": [
      "80% CI: (30.87, 33.13)\n",
      "90% CI: (30.54, 33.46)\n",
      "98% CI: (29.94, 34.06)\n"
     ]
    }
   ],
   "source": [
    "pop_std = 5.6\n",
    "sample_mean = 32\n",
    "n = 40\n",
    "\n",
    "for confidence in [0.80, 0.90, 0.98]:\n",
    "    alpha = 1 - confidence\n",
    "    z_critical = stats.norm.ppf(1 - alpha / 2)\n",
    "    margin = z_critical * (pop_std / np.sqrt(n))\n",
    "    lower = sample_mean - margin\n",
    "    upper = sample_mean + margin\n",
    "    print(f\"{int(confidence*100)}% CI: ({lower:.2f}, {upper:.2f})\")\n"
   ]
  },
  {
   "cell_type": "code",
   "execution_count": 7,
   "id": "a593c851",
   "metadata": {},
   "outputs": [],
   "source": [
    "from scipy.stats import ttest_1samp\n",
    "\n",
    "sample = np.random.normal(140, 20, 30)  # or use exact mean and std\n",
    "t_stat = (140 - 100) / (20 / np.sqrt(30))\n",
    "\n",
    "# T-critical for 2-tailed test\n",
    "t_critical = stats.t.ppf(1 - 0.05/2, df=29)\n",
    "\n",
    "# Built-in t-test\n",
    "t_stat2, p_value = ttest_1samp(sample, popmean=100)\n"
   ]
  },
  {
   "cell_type": "code",
   "execution_count": 8,
   "id": "6db72fca",
   "metadata": {},
   "outputs": [],
   "source": [
    "sample_mean = 20\n",
    "sample_std = 3.5\n",
    "n = 15\n",
    "confidence = 0.95\n",
    "alpha = 1 - confidence\n",
    "\n",
    "t_critical = stats.t.ppf(1 - alpha/2, df=n-1)\n",
    "margin = t_critical * (sample_std / np.sqrt(n))\n",
    "\n",
    "lower = sample_mean - margin\n",
    "upper = sample_mean + margin\n"
   ]
  },
  {
   "cell_type": "code",
   "execution_count": null,
   "id": "3da67054",
   "metadata": {},
   "outputs": [
    {
     "name": "stdout",
     "output_type": "stream",
     "text": [
      "[[ 0.00701248 -1.08044727 -1.47909709]\n",
      " [ 1.47064721 -0.22340028  0.33979324]\n",
      " [ 1.96259624  0.31019821 -0.41985941]\n",
      " [ 0.53570861 -2.51607777  0.36421888]]\n"
     ]
    }
   ],
   "source": [
    "my_var=np.random.randn(4,3)\n",
    "print(my_var)"
   ]
  }
 ],
 "metadata": {
  "kernelspec": {
   "display_name": "Python 3",
   "language": "python",
   "name": "python3"
  },
  "language_info": {
   "codemirror_mode": {
    "name": "ipython",
    "version": 3
   },
   "file_extension": ".py",
   "mimetype": "text/x-python",
   "name": "python",
   "nbconvert_exporter": "python",
   "pygments_lexer": "ipython3",
   "version": "3.13.3"
  }
 },
 "nbformat": 4,
 "nbformat_minor": 5
}
