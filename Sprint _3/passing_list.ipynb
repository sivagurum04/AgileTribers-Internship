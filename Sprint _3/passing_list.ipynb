{
 "cells": [
  {
   "cell_type": "code",
   "execution_count": 2,
   "id": "fa502a57",
   "metadata": {},
   "outputs": [
    {
     "name": "stdout",
     "output_type": "stream",
     "text": [
      "[1 2 3 4 5 6 7 8]\n"
     ]
    }
   ],
   "source": [
    "import numpy as np\n",
    "lst=[1,2,3,4,5,6,7,8]\n",
    "arr=np.array(lst)\n",
    "print(arr)"
   ]
  },
  {
   "cell_type": "code",
   "execution_count": 3,
   "id": "512b3b1a",
   "metadata": {},
   "outputs": [
    {
     "name": "stdout",
     "output_type": "stream",
     "text": [
      "Matrix:\n",
      " [[1 2 3]\n",
      " [4 5 6]\n",
      " [7 8 9]]\n",
      "Shape: (3, 3)\n",
      "Data Type: int64\n"
     ]
    }
   ],
   "source": [
    "matrix_lst = [[1, 2, 3], [4, 5, 6], [7, 8, 9]]\n",
    "matrix = np.array(matrix_lst)\n",
    "print(\"Matrix:\\n\", matrix)\n",
    "print(\"Shape:\", matrix.shape)\n",
    "print(\"Data Type:\", matrix.dtype)"
   ]
  },
  {
   "cell_type": "code",
   "execution_count": 9,
   "id": "d31d6f5e",
   "metadata": {},
   "outputs": [
    {
     "name": "stdout",
     "output_type": "stream",
     "text": [
      " [ 1  2  3  4  5  6  7  8  9 10]\n",
      " [1 3 5 7 9]\n"
     ]
    }
   ],
   "source": [
    "arr1=np.arange(1,11)\n",
    "print(\"\", arr1)\n",
    "arr2=np.arange(1,11,2)\n",
    "print(\"\", arr2)"
   ]
  },
  {
   "cell_type": "code",
   "execution_count": 13,
   "id": "0596058a",
   "metadata": {},
   "outputs": [
    {
     "name": "stdout",
     "output_type": "stream",
     "text": [
      " [0. 0. 0.]\n"
     ]
    }
   ],
   "source": [
    "zero_arr=np.zeros(3)\n",
    "print(\"\", zero_arr)"
   ]
  },
  {
   "cell_type": "code",
   "execution_count": null,
   "id": "5c36d47b",
   "metadata": {},
   "outputs": [
    {
     "name": "stdout",
     "output_type": "stream",
     "text": [
      "10x10 Ones:\n",
      " [[1. 1. 1. 1. 1. 1. 1. 1. 1. 1.]\n",
      " [1. 1. 1. 1. 1. 1. 1. 1. 1. 1.]\n",
      " [1. 1. 1. 1. 1. 1. 1. 1. 1. 1.]\n",
      " [1. 1. 1. 1. 1. 1. 1. 1. 1. 1.]\n",
      " [1. 1. 1. 1. 1. 1. 1. 1. 1. 1.]\n",
      " [1. 1. 1. 1. 1. 1. 1. 1. 1. 1.]\n",
      " [1. 1. 1. 1. 1. 1. 1. 1. 1. 1.]\n",
      " [1. 1. 1. 1. 1. 1. 1. 1. 1. 1.]\n",
      " [1. 1. 1. 1. 1. 1. 1. 1. 1. 1.]\n",
      " [1. 1. 1. 1. 1. 1. 1. 1. 1. 1.]]\n"
     ]
    }
   ],
   "source": [
    "ones_matrix = np.ones((10, 10))\n",
    "print(\"10x10 Ones:\\n\", ones_matrix)"
   ]
  },
  {
   "cell_type": "code",
   "execution_count": null,
   "id": "41513878",
   "metadata": {},
   "outputs": [
    {
     "name": "stdout",
     "output_type": "stream",
     "text": [
      "Linspace 25 numbers from 1 to 11:\n",
      " [ 1.          1.41666667  1.83333333  2.25        2.66666667  3.08333333\n",
      "  3.5         3.91666667  4.33333333  4.75        5.16666667  5.58333333\n",
      "  6.          6.41666667  6.83333333  7.25        7.66666667  8.08333333\n",
      "  8.5         8.91666667  9.33333333  9.75       10.16666667 10.58333333\n",
      " 11.        ]\n"
     ]
    }
   ],
   "source": [
    "lin_arr = np.linspace(1, 11, 25)\n",
    "print(\"Linspace 25 numbers from 1 to 11:\\n\", lin_arr)"
   ]
  },
  {
   "cell_type": "code",
   "execution_count": 4,
   "id": "057b3899",
   "metadata": {},
   "outputs": [
    {
     "name": "stdout",
     "output_type": "stream",
     "text": [
      "10x10 Identity Matrix:\n",
      " [[1. 0. 0. 0. 0. 0. 0. 0. 0. 0.]\n",
      " [0. 1. 0. 0. 0. 0. 0. 0. 0. 0.]\n",
      " [0. 0. 1. 0. 0. 0. 0. 0. 0. 0.]\n",
      " [0. 0. 0. 1. 0. 0. 0. 0. 0. 0.]\n",
      " [0. 0. 0. 0. 1. 0. 0. 0. 0. 0.]\n",
      " [0. 0. 0. 0. 0. 1. 0. 0. 0. 0.]\n",
      " [0. 0. 0. 0. 0. 0. 1. 0. 0. 0.]\n",
      " [0. 0. 0. 0. 0. 0. 0. 1. 0. 0.]\n",
      " [0. 0. 0. 0. 0. 0. 0. 0. 1. 0.]\n",
      " [0. 0. 0. 0. 0. 0. 0. 0. 0. 1.]]\n"
     ]
    }
   ],
   "source": [
    "identity = np.eye(10)\n",
    "print(\"10x10 Identity Matrix:\\n\", identity)"
   ]
  },
  {
   "cell_type": "code",
   "execution_count": 14,
   "id": "020d51ae",
   "metadata": {},
   "outputs": [
    {
     "name": "stdout",
     "output_type": "stream",
     "text": [
      "Random Uniform [0,1]: [0.31959504 0.80595862 0.98146363 0.57340295 0.05762653]\n"
     ]
    }
   ],
   "source": [
    "rand_uniform = np.random.rand(5)\n",
    "print(\"Random Uniform [0,1]:\", rand_uniform)"
   ]
  },
  {
   "cell_type": "code",
   "execution_count": 10,
   "id": "d2030a58",
   "metadata": {},
   "outputs": [
    {
     "name": "stdout",
     "output_type": "stream",
     "text": [
      "Randn 1D: [-0.03433395  0.34822577 -1.10393612  0.39566424  0.57649773 -0.81341174\n",
      "  1.1126427   0.25891888]\n"
     ]
    }
   ],
   "source": [
    "randn_1d = np.random.randn(8)\n",
    "print(\"Randn 1D:\", randn_1d)"
   ]
  },
  {
   "cell_type": "code",
   "execution_count": 15,
   "id": "2ae82b24",
   "metadata": {},
   "outputs": [
    {
     "name": "stdout",
     "output_type": "stream",
     "text": [
      "Randn 6x6:\n",
      " [[ 0.34163293 -0.22518846 -0.9843834  -0.06688115  1.95543956 -0.01951639]\n",
      " [ 0.00879418  0.56967068 -1.28561944  0.64153177 -0.76151047 -0.26839553]\n",
      " [-0.05577748 -2.12113276 -0.82213942 -0.80406457 -1.72912862  0.66692281]\n",
      " [-0.83220724  0.53802669 -0.23550546 -1.01121741 -1.40139204 -0.52883341]\n",
      " [ 0.94268138 -0.64417403  0.69324472  0.09644292 -0.52107152  0.77866538]\n",
      " [-0.70670823 -0.36737498  1.77183622 -0.19618103 -0.34165131  1.41921785]]\n"
     ]
    }
   ],
   "source": [
    "randn_2d = np.random.randn(6, 6)\n",
    "print(\"Randn 6x6:\\n\", randn_2d)"
   ]
  },
  {
   "cell_type": "code",
   "execution_count": 17,
   "id": "beef1195",
   "metadata": {},
   "outputs": [
    {
     "name": "stdout",
     "output_type": "stream",
     "text": [
      "Random int between 1-5: [1 3 3 1 4 5 5 5 3 4]\n"
     ]
    }
   ],
   "source": [
    "rand_int = np.random.randint(1, 6, 10)\n",
    "print(\"Random int between 1-5:\", rand_int)"
   ]
  },
  {
   "cell_type": "code",
   "execution_count": 18,
   "id": "625fdc8c",
   "metadata": {},
   "outputs": [
    {
     "name": "stdout",
     "output_type": "stream",
     "text": [
      "Sequential array: [ 0  1  2  3  4  5  6  7  8  9 10 11 12 13 14 15 16 17 18 19 20 21 22 23\n",
      " 24]\n"
     ]
    }
   ],
   "source": [
    "seq_arr = np.arange(25)\n",
    "print(\"Sequential array:\", seq_arr)"
   ]
  },
  {
   "cell_type": "code",
   "execution_count": 19,
   "id": "fe358854",
   "metadata": {},
   "outputs": [
    {
     "name": "stdout",
     "output_type": "stream",
     "text": [
      "Shape of a: (2, 3)\n"
     ]
    }
   ],
   "source": [
    "a = np.array([[1, 2, 3], [4, 5, 6]])\n",
    "print(\"Shape of a:\", a.shape)"
   ]
  },
  {
   "cell_type": "code",
   "execution_count": 20,
   "id": "808b1dd2",
   "metadata": {},
   "outputs": [
    {
     "name": "stdout",
     "output_type": "stream",
     "text": [
      "Reshaped to 2x3:\n",
      " [[1 2 3]\n",
      " [4 5 6]]\n"
     ]
    }
   ],
   "source": [
    "a_flat = np.array([1, 2, 3, 4, 5, 6])\n",
    "reshaped = a_flat.reshape((2, 3))\n",
    "print(\"Reshaped to 2x3:\\n\", reshaped)"
   ]
  },
  {
   "cell_type": "code",
   "execution_count": 21,
   "id": "99a1aee6",
   "metadata": {},
   "outputs": [
    {
     "name": "stdout",
     "output_type": "stream",
     "text": [
      "Minimum Value: 3\n"
     ]
    }
   ],
   "source": [
    "arr_min = np.array([10, 3, 7, 22, 5])\n",
    "print(\"Minimum Value:\", np.min(arr_min))"
   ]
  },
  {
   "cell_type": "code",
   "execution_count": null,
   "id": "c9fc2889",
   "metadata": {},
   "outputs": [
    {
     "name": "stdout",
     "output_type": "stream",
     "text": [
      "Index of max value: 3\n"
     ]
    }
   ],
   "source": [
    "r = np.array([10, 20, 50, 5])\n",
    "print(\"Index of max value:\", np.argmax(r))"
   ]
  },
  {
   "cell_type": "code",
   "execution_count": 5,
   "id": "e483bcdf",
   "metadata": {},
   "outputs": [
    {
     "name": "stdout",
     "output_type": "stream",
     "text": [
      " [1000 1000 1000 1000 1000    6    7    8    9   10]\n"
     ]
    }
   ],
   "source": [
    "a=np.array([1,2,3,4,5,6,7,8,9,10])\n",
    "a[:5]=1000\n",
    "print(\"\", a)"
   ]
  },
  {
   "cell_type": "code",
   "execution_count": 8,
   "id": "c60c9394",
   "metadata": {},
   "outputs": [
    {
     "name": "stdout",
     "output_type": "stream",
     "text": [
      " [[1 2 3]\n",
      " [4 5 6]\n",
      " [7 8 9]]\n"
     ]
    }
   ],
   "source": [
    "mat=np.array([[1,2,3],[4,5,6],[7,8,9]])\n",
    "print(\"\", mat)"
   ]
  },
  {
   "cell_type": "code",
   "execution_count": 6,
   "id": "16d110ec",
   "metadata": {},
   "outputs": [
    {
     "name": "stdout",
     "output_type": "stream",
     "text": [
      "addition is  [ 2  4  6  8 10 12 14 16 18]\n",
      "subtraction is  [0 0 0 0 0 0 0 0 0]\n",
      "multiplication is [ 1  4  9 16 25 36 49 64 81]\n"
     ]
    }
   ],
   "source": [
    "c=np.arange(1,10)\n",
    "print(\"addition is \",c+c)\n",
    "print(\"subtraction is \",c-c)\n",
    "print(\"multiplication is\",c*c)"
   ]
  },
  {
   "cell_type": "code",
   "execution_count": 9,
   "id": "8e192472",
   "metadata": {},
   "outputs": [
    {
     "name": "stdout",
     "output_type": "stream",
     "text": [
      " [ 7  9 11 13 15]\n"
     ]
    }
   ],
   "source": [
    "a=np.array([1,2,3,4,5,])\n",
    "b=np.array([6,7,8,9,10])\n",
    "print(\"\", a+b)"
   ]
  },
  {
   "cell_type": "code",
   "execution_count": 10,
   "id": "2c879fa8",
   "metadata": {},
   "outputs": [
    {
     "name": "stdout",
     "output_type": "stream",
     "text": [
      "Sine: [0.0000000e+00 1.0000000e+00 1.2246468e-16]\n",
      "Cosine: [ 1.000000e+00  6.123234e-17 -1.000000e+00]\n"
     ]
    }
   ],
   "source": [
    "angles = np.array([0, np.pi/2, np.pi])\n",
    "print(\"Sine:\", np.sin(angles))\n",
    "print(\"Cosine:\", np.cos(angles))"
   ]
  },
  {
   "cell_type": "code",
   "execution_count": 11,
   "id": "c3aedb7e",
   "metadata": {},
   "outputs": [
    {
     "name": "stdout",
     "output_type": "stream",
     "text": [
      "[  1   8  27  64 125 216 343 512 729]\n"
     ]
    }
   ],
   "source": [
    "exp=np.array(np.arange(1,10))\n",
    "pow=3\n",
    "print(exp**pow)"
   ]
  },
  {
   "cell_type": "code",
   "execution_count": 12,
   "id": "3567a8b3",
   "metadata": {},
   "outputs": [
    {
     "name": "stdout",
     "output_type": "stream",
     "text": [
      "Square Roots: [2. 3. 4.]\n"
     ]
    }
   ],
   "source": [
    "sqrt_arr = np.array([4, 9, 16])\n",
    "print(\"Square Roots:\", np.sqrt(sqrt_arr))"
   ]
  },
  {
   "cell_type": "code",
   "execution_count": 13,
   "id": "3ec77fc8",
   "metadata": {},
   "outputs": [
    {
     "name": "stdout",
     "output_type": "stream",
     "text": [
      "Element-wise Matrix Multiplication:\n",
      " [[ 1  4  9]\n",
      " [16 25 36]\n",
      " [49 64 81]]\n"
     ]
    }
   ],
   "source": [
    "mat = np.array([[1,2,3], [4,5,6], [7,8,9]])\n",
    "print(\"Element-wise Matrix Multiplication:\\n\", mat * mat)"
   ]
  }
 ],
 "metadata": {
  "kernelspec": {
   "display_name": "Python 3",
   "language": "python",
   "name": "python3"
  },
  "language_info": {
   "codemirror_mode": {
    "name": "ipython",
    "version": 3
   },
   "file_extension": ".py",
   "mimetype": "text/x-python",
   "name": "python",
   "nbconvert_exporter": "python",
   "pygments_lexer": "ipython3",
   "version": "3.13.3"
  }
 },
 "nbformat": 4,
 "nbformat_minor": 5
}
