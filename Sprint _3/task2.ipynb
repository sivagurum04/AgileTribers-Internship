{
 "cells": [
  {
   "cell_type": "code",
   "execution_count": 3,
   "id": "cdf5dd39",
   "metadata": {},
   "outputs": [
    {
     "name": "stdout",
     "output_type": "stream",
     "text": [
      "First few rows of 'Salaries.csv':\n",
      "   rank discipline  phd  service   sex  salary\n",
      "0  Prof          B   56       49  Male  186960\n",
      "1  Prof          A   12        6  Male   93000\n",
      "2  Prof          A   23       20  Male  110515\n",
      "3  Prof          A   40       31  Male  131205\n",
      "4  Prof          B   20       18  Male  104800\n"
     ]
    }
   ],
   "source": [
    "import pandas as pd\n",
    "url = \"https://raw.githubusercontent.com/Apress/data-analysis-and-visualization-using-python/master/Ch07/Salaries.csv\"\n",
    "data = pd.read_csv(url)\n",
    "print(\"First few rows of 'Salaries.csv':\")\n",
    "print(data.head())\n"
   ]
  },
  {
   "cell_type": "code",
   "execution_count": 4,
   "id": "9197fc53",
   "metadata": {},
   "outputs": [
    {
     "name": "stdout",
     "output_type": "stream",
     "text": [
      "First few rows of 'Cars.csv':\n",
      "   age  gender  miles   debt  income  sales\n",
      "0   28       0     23      0    4099    620\n",
      "1   26       0     27      0    2677   1792\n",
      "2   30       1     58  41576    6215  27754\n",
      "3   26       1     25  43172    7626  28256\n",
      "4   20       1     17   6979    8071   4438\n"
     ]
    }
   ],
   "source": [
    "data = pd.read_csv(\"cars.csv\")\n",
    "# Display first few rows\n",
    "print(\"First few rows of 'Cars.csv':\")\n",
    "print(data.head())"
   ]
  },
  {
   "cell_type": "code",
   "execution_count": 5,
   "id": "20ecfa50",
   "metadata": {},
   "outputs": [
    {
     "name": "stdout",
     "output_type": "stream",
     "text": [
      "\n",
      "HEAD:\n",
      "   age  gender  miles   debt  income  sales\n",
      "0   28       0     23      0    4099    620\n",
      "1   26       0     27      0    2677   1792\n",
      "2   30       1     58  41576    6215  27754\n",
      "3   26       1     25  43172    7626  28256\n",
      "4   20       1     17   6979    8071   4438\n",
      "\n",
      "TAIL:\n",
      "     age  gender  miles   debt  income  sales\n",
      "958   22       0     11   8778    9829   1593\n",
      "959   19       1     23   4850    3470   4742\n",
      "960   28       1     28   9312    2720  12771\n",
      "961   50       0     29  51343    8713  28511\n",
      "962   47       1     15   3735    6406   6104\n",
      "\n",
      "SHAPE:\n",
      "(963, 6)\n",
      "\n",
      "DESCRIBE:\n",
      "              age      gender       miles          debt        income  \\\n",
      "count  963.000000  963.000000  963.000000    963.000000    963.000000   \n",
      "mean    37.971963    0.512980   27.704050  14109.004154   6176.047767   \n",
      "std     12.290838    0.500091   13.378181  18273.702481   3260.670142   \n",
      "min     19.000000    0.000000   10.000000      0.000000      0.000000   \n",
      "25%     27.000000    0.000000   20.000000   1475.000000   3506.500000   \n",
      "50%     37.000000    1.000000   25.000000   6236.000000   6360.000000   \n",
      "75%     49.000000    1.000000   32.000000  16686.000000   8649.500000   \n",
      "max     60.000000    1.000000   97.000000  59770.000000  11970.000000   \n",
      "\n",
      "              sales  \n",
      "count    963.000000  \n",
      "mean   11689.860852  \n",
      "std     8986.896921  \n",
      "min      500.000000  \n",
      "25%     3554.000000  \n",
      "50%     9130.000000  \n",
      "75%    19245.000000  \n",
      "max    29926.000000  \n"
     ]
    }
   ],
   "source": [
    "df = data\n",
    "\n",
    "print(\"\\nHEAD:\")\n",
    "print(df.head())\n",
    "\n",
    "print(\"\\nTAIL:\")\n",
    "print(df.tail())\n",
    "\n",
    "print(\"\\nSHAPE:\")\n",
    "print(df.shape)\n",
    "\n",
    "print(\"\\nDESCRIBE:\")\n",
    "print(df.describe())"
   ]
  },
  {
   "cell_type": "code",
   "execution_count": 6,
   "id": "83bdca6b",
   "metadata": {},
   "outputs": [
    {
     "name": "stdout",
     "output_type": "stream",
     "text": [
      "Step 1 - Dictionary Data:\n",
      "{'Name': ['John', 'Jane', 'Babu', 'Peter', 'Leju'], 'Age': [25, 30, 35, 40, 55], 'City': ['New York', 'London', 'Paris', 'UK', 'Germany']}\n"
     ]
    }
   ],
   "source": [
    "data = {\n",
    "    'Name': ['John', 'Jane', 'Babu', 'Peter', 'Leju'],\n",
    "    'Age': [25, 30, 35, 40, 55],\n",
    "    'City': ['New York', 'London', 'Paris', 'UK', 'Germany']\n",
    "}\n",
    "df = pd.DataFrame(data)\n",
    "\n",
    "print(\"Step 1 - Dictionary Data:\")\n",
    "print(data)"
   ]
  },
  {
   "cell_type": "code",
   "execution_count": 7,
   "id": "2b263a3c",
   "metadata": {},
   "outputs": [
    {
     "name": "stdout",
     "output_type": "stream",
     "text": [
      "\n",
      "DataFrame Creation:\n",
      "{'Name': ['John', 'Jane', 'Babu', 'Peter', 'Leju'], 'Age': [25, 30, 35, 40, 55], 'City': ['New York', 'London', 'Paris', 'UK', 'Germany']}\n"
     ]
    }
   ],
   "source": [
    "print(\"\\nDataFrame Creation:\")\n",
    "print(data)"
   ]
  },
  {
   "cell_type": "code",
   "execution_count": 8,
   "id": "9883c52d",
   "metadata": {},
   "outputs": [
    {
     "name": "stdout",
     "output_type": "stream",
     "text": [
      "\n",
      "First five rows of DataFrame:\n",
      "    Name  Age      City\n",
      "0   John   25  New York\n",
      "1   Jane   30    London\n",
      "2   Babu   35     Paris\n",
      "3  Peter   40        UK\n",
      "4   Leju   55   Germany\n"
     ]
    }
   ],
   "source": [
    "print(\"\\nFirst five rows of DataFrame:\")\n",
    "print(df.head())"
   ]
  },
  {
   "cell_type": "code",
   "execution_count": 9,
   "id": "c5bec6ac",
   "metadata": {},
   "outputs": [
    {
     "name": "stdout",
     "output_type": "stream",
     "text": [
      "\n",
      "DataFrame Info:\n",
      "<class 'pandas.core.frame.DataFrame'>\n",
      "RangeIndex: 5 entries, 0 to 4\n",
      "Data columns (total 3 columns):\n",
      " #   Column  Non-Null Count  Dtype \n",
      "---  ------  --------------  ----- \n",
      " 0   Name    5 non-null      object\n",
      " 1   Age     5 non-null      int64 \n",
      " 2   City    5 non-null      object\n",
      "dtypes: int64(1), object(2)\n",
      "memory usage: 252.0+ bytes\n"
     ]
    }
   ],
   "source": [
    "print(\"\\nDataFrame Info:\")\n",
    "df.info()"
   ]
  },
  {
   "cell_type": "code",
   "execution_count": 10,
   "id": "f759598c",
   "metadata": {},
   "outputs": [],
   "source": [
    "# Sample data creation (you may replace it with actual CSV import)\n",
    "data = pd.DataFrame({\n",
    "    'Department': ['HR', 'IT', 'HR', 'Finance', 'IT', 'Finance', 'HR'],\n",
    "    'EmployeeID': [1, 2, 3, 4, 5, 6, 7],\n",
    "    'Salary': [50000, 80000, 52000, 70000, 90000, 65000, 58000],\n",
    "    'YearsOfExperience': [2, 5, 3, 4, 6, 7, 4],\n",
    "    'Age': [25, 30, 26, 35, 28, 40, 29]\n",
    "})"
   ]
  },
  {
   "cell_type": "code",
   "execution_count": 11,
   "id": "c84d35e5",
   "metadata": {},
   "outputs": [
    {
     "name": "stdout",
     "output_type": "stream",
     "text": [
      "Mean Salary by Department:\n",
      "Department\n",
      "Finance    67500.000000\n",
      "HR         53333.333333\n",
      "IT         85000.000000\n",
      "Name: Salary, dtype: float64\n"
     ]
    }
   ],
   "source": [
    "mean_salary = data.groupby('Department')['Salary'].mean()\n",
    "\n",
    "print(\"Mean Salary by Department:\")\n",
    "print(mean_salary)"
   ]
  },
  {
   "cell_type": "code",
   "execution_count": 12,
   "id": "57ee0afe",
   "metadata": {},
   "outputs": [
    {
     "name": "stdout",
     "output_type": "stream",
     "text": [
      "\n",
      "Grouped by Department and Experience with Aggregations:\n",
      "                               Salary           Age\n",
      "                                 mean    max median\n",
      "Department YearsOfExperience                       \n",
      "Finance    4                  70000.0  70000   35.0\n",
      "           7                  65000.0  65000   40.0\n",
      "HR         2                  50000.0  50000   25.0\n",
      "           3                  52000.0  52000   26.0\n",
      "           4                  58000.0  58000   29.0\n",
      "IT         5                  80000.0  80000   30.0\n",
      "           6                  90000.0  90000   28.0\n"
     ]
    }
   ],
   "source": [
    "agg_result = data.groupby(['Department', 'YearsOfExperience']).agg({\n",
    "    'Salary': ['mean', 'max'],\n",
    "    'Age': 'median'\n",
    "})\n",
    "\n",
    "print(\"\\nGrouped by Department and Experience with Aggregations:\")\n",
    "print(agg_result)\n"
   ]
  },
  {
   "cell_type": "code",
   "execution_count": 13,
   "id": "dd1388a3",
   "metadata": {},
   "outputs": [
    {
     "name": "stdout",
     "output_type": "stream",
     "text": [
      "\n",
      "Departments with Mean Salary > 60000:\n",
      "Department\n",
      "Finance    67500.0\n",
      "IT         85000.0\n",
      "Name: Salary, dtype: float64\n"
     ]
    }
   ],
   "source": [
    "mean_salary = data.groupby('Department')['Salary'].mean()\n",
    "filtered = mean_salary[mean_salary > 60000]\n",
    "\n",
    "print(\"\\nDepartments with Mean Salary > 60000:\")\n",
    "print(filtered)"
   ]
  },
  {
   "cell_type": "code",
   "execution_count": 14,
   "id": "2509882c",
   "metadata": {},
   "outputs": [
    {
     "name": "stdout",
     "output_type": "stream",
     "text": [
      "\n",
      "Custom Aggregation (Salary Range) by Department:\n",
      "Department\n",
      "Finance     5000\n",
      "HR          8000\n",
      "IT         10000\n",
      "Name: Salary, dtype: int64\n"
     ]
    }
   ],
   "source": [
    "def salary_range(series):\n",
    "    return series.max() - series.min()\n",
    "\n",
    "custom_agg = data.groupby('Department')['Salary'].agg(salary_range)\n",
    "\n",
    "print(\"\\nCustom Aggregation (Salary Range) by Department:\")\n",
    "print(custom_agg)"
   ]
  }
 ],
 "metadata": {
  "kernelspec": {
   "display_name": "Python 3",
   "language": "python",
   "name": "python3"
  },
  "language_info": {
   "codemirror_mode": {
    "name": "ipython",
    "version": 3
   },
   "file_extension": ".py",
   "mimetype": "text/x-python",
   "name": "python",
   "nbconvert_exporter": "python",
   "pygments_lexer": "ipython3",
   "version": "3.13.3"
  }
 },
 "nbformat": 4,
 "nbformat_minor": 5
}
