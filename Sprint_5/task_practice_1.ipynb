{
 "cells": [
  {
   "cell_type": "code",
   "execution_count": 3,
   "id": "e15bca0f",
   "metadata": {},
   "outputs": [
    {
     "data": {
      "text/html": [
       "<div>\n",
       "<style scoped>\n",
       "    .dataframe tbody tr th:only-of-type {\n",
       "        vertical-align: middle;\n",
       "    }\n",
       "\n",
       "    .dataframe tbody tr th {\n",
       "        vertical-align: top;\n",
       "    }\n",
       "\n",
       "    .dataframe thead th {\n",
       "        text-align: right;\n",
       "    }\n",
       "</style>\n",
       "<table border=\"1\" class=\"dataframe\">\n",
       "  <thead>\n",
       "    <tr style=\"text-align: right;\">\n",
       "      <th></th>\n",
       "      <th>Serial Number</th>\n",
       "      <th>Title</th>\n",
       "      <th>Salary</th>\n",
       "      <th>Qualification</th>\n",
       "      <th>Exp</th>\n",
       "    </tr>\n",
       "  </thead>\n",
       "  <tbody>\n",
       "    <tr>\n",
       "      <th>0</th>\n",
       "      <td>1</td>\n",
       "      <td>Software Engineer</td>\n",
       "      <td>20000.0</td>\n",
       "      <td>Bachelors</td>\n",
       "      <td>3</td>\n",
       "    </tr>\n",
       "    <tr>\n",
       "      <th>1</th>\n",
       "      <td>2</td>\n",
       "      <td>Data Scientist</td>\n",
       "      <td>23000.0</td>\n",
       "      <td>Masters</td>\n",
       "      <td>4</td>\n",
       "    </tr>\n",
       "    <tr>\n",
       "      <th>2</th>\n",
       "      <td>3</td>\n",
       "      <td>Project Manager</td>\n",
       "      <td>18000.0</td>\n",
       "      <td>Masters</td>\n",
       "      <td>2</td>\n",
       "    </tr>\n",
       "    <tr>\n",
       "      <th>3</th>\n",
       "      <td>4</td>\n",
       "      <td>Professor</td>\n",
       "      <td>25000.0</td>\n",
       "      <td>Bachelors</td>\n",
       "      <td>5</td>\n",
       "    </tr>\n",
       "    <tr>\n",
       "      <th>4</th>\n",
       "      <td>5</td>\n",
       "      <td>Database Architect</td>\n",
       "      <td>17000.0</td>\n",
       "      <td>Bachelors</td>\n",
       "      <td>1</td>\n",
       "    </tr>\n",
       "    <tr>\n",
       "      <th>5</th>\n",
       "      <td>4</td>\n",
       "      <td>Professor</td>\n",
       "      <td>25000.0</td>\n",
       "      <td>Bachelors</td>\n",
       "      <td>5</td>\n",
       "    </tr>\n",
       "    <tr>\n",
       "      <th>6</th>\n",
       "      <td>7</td>\n",
       "      <td>Business Analyst</td>\n",
       "      <td>18000.0</td>\n",
       "      <td>NaN</td>\n",
       "      <td>5</td>\n",
       "    </tr>\n",
       "    <tr>\n",
       "      <th>7</th>\n",
       "      <td>8</td>\n",
       "      <td>UX/UI Developer</td>\n",
       "      <td>23.0</td>\n",
       "      <td>Bachelors</td>\n",
       "      <td>0</td>\n",
       "    </tr>\n",
       "    <tr>\n",
       "      <th>8</th>\n",
       "      <td>9</td>\n",
       "      <td>Devops Engineer</td>\n",
       "      <td>NaN</td>\n",
       "      <td>Masters</td>\n",
       "      <td>2</td>\n",
       "    </tr>\n",
       "  </tbody>\n",
       "</table>\n",
       "</div>"
      ],
      "text/plain": [
       "   Serial Number               Title   Salary Qualification  Exp\n",
       "0              1   Software Engineer  20000.0     Bachelors    3\n",
       "1              2      Data Scientist  23000.0       Masters    4\n",
       "2              3     Project Manager  18000.0       Masters    2\n",
       "3              4           Professor  25000.0     Bachelors    5\n",
       "4              5  Database Architect  17000.0     Bachelors    1\n",
       "5              4           Professor  25000.0     Bachelors    5\n",
       "6              7    Business Analyst  18000.0           NaN    5\n",
       "7              8     UX/UI Developer     23.0     Bachelors    0\n",
       "8              9     Devops Engineer      NaN       Masters    2"
      ]
     },
     "execution_count": 3,
     "metadata": {},
     "output_type": "execute_result"
    }
   ],
   "source": [
    "import pandas as pd\n",
    "import numpy as np\n",
    "df=pd.read_excel(\"sample_data1.xlsx\")\n",
    "df"
   ]
  },
  {
   "cell_type": "code",
   "execution_count": null,
   "id": "9a5129dc",
   "metadata": {},
   "outputs": [
    {
     "name": "stdout",
     "output_type": "stream",
     "text": [
      "Serial Number    0\n",
      "Title            0\n",
      "Salary           1\n",
      "Qualification    1\n",
      "Exp              0\n",
      "dtype: int64\n"
     ]
    }
   ],
   "source": [
    "# Task 1\n",
    "print(df.isnull().sum())"
   ]
  },
  {
   "cell_type": "code",
   "execution_count": null,
   "id": "8d08a273",
   "metadata": {},
   "outputs": [
    {
     "name": "stdout",
     "output_type": "stream",
     "text": [
      "   Serial Number            Title  Salary Qualification  Exp\n",
      "8              9  Devops Engineer     NaN       Masters    2\n"
     ]
    }
   ],
   "source": [
    "#Rows with Missing Salary\n",
    "print(df[df['Salary'].isnull()])"
   ]
  },
  {
   "cell_type": "code",
   "execution_count": 5,
   "id": "81868af3",
   "metadata": {},
   "outputs": [
    {
     "name": "stdout",
     "output_type": "stream",
     "text": [
      "   Serial Number             Title   Salary Qualification  Exp\n",
      "6              7  Business Analyst  18000.0           NaN    5\n"
     ]
    }
   ],
   "source": [
    "# View Rows with Missing Qualification\n",
    "print(df[df['Qualification'].isnull()])"
   ]
  },
  {
   "cell_type": "code",
   "execution_count": 7,
   "id": "e1a140e5",
   "metadata": {},
   "outputs": [
    {
     "name": "stdout",
     "output_type": "stream",
     "text": [
      "Serial Number    0\n",
      "Title            0\n",
      "Salary           0\n",
      "Qualification    0\n",
      "Exp              0\n",
      "dtype: int64\n"
     ]
    }
   ],
   "source": [
    "df_cleaned = df.dropna()\n",
    "print(df_cleaned.isnull().sum())"
   ]
  },
  {
   "cell_type": "code",
   "execution_count": 9,
   "id": "3e4f6fdf",
   "metadata": {},
   "outputs": [
    {
     "name": "stdout",
     "output_type": "stream",
     "text": [
      "Null values before imputation:\n",
      "Serial Number    0\n",
      "Title            0\n",
      "Salary           0\n",
      "Qualification    0\n",
      "Exp              0\n",
      "dtype: int64\n"
     ]
    }
   ],
   "source": [
    "# TASK 2\n",
    "print(\"Null values before imputation:\")\n",
    "print(df.isnull().sum())\n"
   ]
  },
  {
   "cell_type": "code",
   "execution_count": 10,
   "id": "08560c68",
   "metadata": {},
   "outputs": [],
   "source": [
    "mean_salary = df['Salary'].mean()"
   ]
  },
  {
   "cell_type": "code",
   "execution_count": 11,
   "id": "52f71f2c",
   "metadata": {},
   "outputs": [],
   "source": [
    "mode_qualification = df['Qualification'].mode()[0]"
   ]
  },
  {
   "cell_type": "code",
   "execution_count": null,
   "id": "571aac2e",
   "metadata": {},
   "outputs": [],
   "source": [
    "df['Salary'] = df['Salary'].fillna(mean_salary)\n",
    "df['Qualification'] = df['Qualification'].fillna(mode_qualification)\n"
   ]
  },
  {
   "cell_type": "code",
   "execution_count": 16,
   "id": "ee0f3f49",
   "metadata": {},
   "outputs": [
    {
     "name": "stdout",
     "output_type": "stream",
     "text": [
      "Null values after imputation:\n",
      "Serial Number    0\n",
      "Title            0\n",
      "Salary           0\n",
      "Qualification    0\n",
      "Exp              0\n",
      "dtype: int64\n",
      "   Serial Number               Title   Salary Qualification  Exp\n",
      "0              1   Software Engineer  20000.0     Bachelors    3\n",
      "1              2      Data Scientist  23000.0       Masters    4\n",
      "2              3     Project Manager  18000.0       Masters    2\n",
      "3              4           Professor  25000.0     Bachelors    5\n",
      "4              5  Database Architect  17000.0     Bachelors    1\n"
     ]
    }
   ],
   "source": [
    "print(\"Null values after imputation:\")\n",
    "print(df.isnull().sum())\n",
    "print(df.head())"
   ]
  },
  {
   "cell_type": "code",
   "execution_count": 17,
   "id": "39036862",
   "metadata": {},
   "outputs": [
    {
     "name": "stdout",
     "output_type": "stream",
     "text": [
      "Duplicate row status:\n",
      "0    False\n",
      "1    False\n",
      "2    False\n",
      "3    False\n",
      "4    False\n",
      "5     True\n",
      "6    False\n",
      "7    False\n",
      "8    False\n",
      "dtype: bool\n"
     ]
    }
   ],
   "source": [
    "# TASK 3\n",
    "print(\"Duplicate row status:\")\n",
    "print(df.duplicated())"
   ]
  },
  {
   "cell_type": "code",
   "execution_count": 18,
   "id": "234672d4",
   "metadata": {},
   "outputs": [
    {
     "name": "stdout",
     "output_type": "stream",
     "text": [
      "Duplicate rows:\n",
      "   Serial Number      Title   Salary Qualification  Exp\n",
      "5              4  Professor  25000.0     Bachelors    5\n"
     ]
    }
   ],
   "source": [
    "print(\"Duplicate rows:\")\n",
    "print(df[df.duplicated()])"
   ]
  },
  {
   "cell_type": "code",
   "execution_count": 19,
   "id": "ce3a1a7b",
   "metadata": {},
   "outputs": [],
   "source": [
    "df_no_duplicates = df.drop_duplicates().reset_index(drop=True)"
   ]
  },
  {
   "cell_type": "code",
   "execution_count": 20,
   "id": "6d28c6c0",
   "metadata": {},
   "outputs": [
    {
     "name": "stdout",
     "output_type": "stream",
     "text": [
      "Data after removing duplicates:\n",
      "   Serial Number               Title     Salary Qualification  Exp\n",
      "0              1   Software Engineer  20000.000     Bachelors    3\n",
      "1              2      Data Scientist  23000.000       Masters    4\n",
      "2              3     Project Manager  18000.000       Masters    2\n",
      "3              4           Professor  25000.000     Bachelors    5\n",
      "4              5  Database Architect  17000.000     Bachelors    1\n",
      "5              7    Business Analyst  18000.000     Bachelors    5\n",
      "6              8     UX/UI Developer     23.000     Bachelors    0\n",
      "7              9     Devops Engineer  18252.875       Masters    2\n"
     ]
    }
   ],
   "source": [
    "print(\"Data after removing duplicates:\")\n",
    "print(df_no_duplicates)\n"
   ]
  }
 ],
 "metadata": {
  "kernelspec": {
   "display_name": "Python 3",
   "language": "python",
   "name": "python3"
  },
  "language_info": {
   "codemirror_mode": {
    "name": "ipython",
    "version": 3
   },
   "file_extension": ".py",
   "mimetype": "text/x-python",
   "name": "python",
   "nbconvert_exporter": "python",
   "pygments_lexer": "ipython3",
   "version": "3.13.3"
  }
 },
 "nbformat": 4,
 "nbformat_minor": 5
}
