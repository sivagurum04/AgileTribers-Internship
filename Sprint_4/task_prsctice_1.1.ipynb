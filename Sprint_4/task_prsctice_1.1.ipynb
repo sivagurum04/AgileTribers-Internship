{
 "cells": [
  {
   "cell_type": "code",
   "execution_count": 2,
   "id": "f82792f3",
   "metadata": {},
   "outputs": [],
   "source": [
    "import numpy as np\n",
    "from scipy.stats import t\n",
    "before = np.array([185, 192, 206, 177, 225, 168, 256, 239, 199, 218])\n",
    "after = np.array([169, 187, 193, 176, 194, 171, 228, 217, 204, 195])"
   ]
  },
  {
   "cell_type": "code",
   "execution_count": 3,
   "id": "6d8177b3",
   "metadata": {},
   "outputs": [
    {
     "name": "stdout",
     "output_type": "stream",
     "text": [
      "Differences (After - Before): [-16  -5 -13  -1 -31   3 -28 -22   5 -23]\n"
     ]
    }
   ],
   "source": [
    "# Difference between after and before weights\n",
    "diff = after - before\n",
    "print(\"Differences (After - Before):\", diff)\n"
   ]
  },
  {
   "cell_type": "code",
   "execution_count": null,
   "id": "abd5e838",
   "metadata": {},
   "outputs": [
    {
     "name": "stdout",
     "output_type": "stream",
     "text": [
      "Mean Difference (d̄): -13.1\n",
      "Standard Deviation (sd): 13.0252\n"
     ]
    }
   ],
   "source": [
    "# Mean and Standard Deviation\n",
    "d_bar = np.mean(diff)\n",
    "sd = np.std(diff, ddof=1)\n",
    "print(\"Mean Difference (d̄):\", round(d_bar, 4))\n",
    "print(\"Standard Deviation (sd):\", round(sd, 4))"
   ]
  },
  {
   "cell_type": "code",
   "execution_count": 5,
   "id": "9c337cb5",
   "metadata": {},
   "outputs": [
    {
     "name": "stdout",
     "output_type": "stream",
     "text": [
      "Standard Error (sd̄): 4.1189\n",
      "Degrees of Freedom: 9\n"
     ]
    }
   ],
   "source": [
    "n = len(diff)\n",
    "sd_bar = sd / np.sqrt(n)   \n",
    "df = n - 1                 \n",
    "print(\"Standard Error (sd̄):\", round(sd_bar, 4))\n",
    "print(\"Degrees of Freedom:\", df)\n"
   ]
  },
  {
   "cell_type": "code",
   "execution_count": 6,
   "id": "f8bf8953",
   "metadata": {},
   "outputs": [
    {
     "name": "stdout",
     "output_type": "stream",
     "text": [
      "T-Statistic: -3.1804\n"
     ]
    }
   ],
   "source": [
    "t_statistic = d_bar / sd_bar\n",
    "print(\"T-Statistic:\", round(t_statistic, 4))"
   ]
  },
  {
   "cell_type": "code",
   "execution_count": null,
   "id": "5416c8e9",
   "metadata": {},
   "outputs": [
    {
     "name": "stdout",
     "output_type": "stream",
     "text": [
      "T-Critical (95% CI): 2.2622\n",
      "Margin of Error: 9.3177\n"
     ]
    }
   ],
   "source": [
    "# For 95% confidence interval (two-tailed)\n",
    "t_critical = t.ppf(1 - 0.025, df)\n",
    "margin_of_error = t_critical * sd_bar\n",
    "\n",
    "print(\"T-Critical (95% CI):\", round(t_critical, 4))\n",
    "print(\"Margin of Error:\", round(margin_of_error, 4))"
   ]
  },
  {
   "cell_type": "code",
   "execution_count": null,
   "id": "1c902f2b",
   "metadata": {},
   "outputs": [
    {
     "name": "stdout",
     "output_type": "stream",
     "text": [
      "95% Confidence Interval: [ -22.4177 , -3.7823 ]\n"
     ]
    }
   ],
   "source": [
    "ci_lower = d_bar - margin_of_error\n",
    "ci_upper = d_bar + margin_of_error\n",
    "\n",
    "print(\"95% Confidence Interval: [\", round(ci_lower, 4), \",\", round(ci_upper, 4), \"]\")"
   ]
  },
  {
   "cell_type": "code",
   "execution_count": 9,
   "id": "4778fa81",
   "metadata": {},
   "outputs": [
    {
     "name": "stdout",
     "output_type": "stream",
     "text": [
      "Result: Reject Null Hypothesis — Program significantly reduces weight.\n"
     ]
    }
   ],
   "source": [
    "if abs(t_statistic) > t_critical:\n",
    "    print(\"Result: Reject Null Hypothesis — Program significantly reduces weight.\")\n",
    "else:\n",
    "    print(\"Result: Fail to Reject Null — No significant weight reduction.\")"
   ]
  }
 ],
 "metadata": {
  "kernelspec": {
   "display_name": "Python 3",
   "language": "python",
   "name": "python3"
  },
  "language_info": {
   "codemirror_mode": {
    "name": "ipython",
    "version": 3
   },
   "file_extension": ".py",
   "mimetype": "text/x-python",
   "name": "python",
   "nbconvert_exporter": "python",
   "pygments_lexer": "ipython3",
   "version": "3.13.3"
  }
 },
 "nbformat": 4,
 "nbformat_minor": 5
}
