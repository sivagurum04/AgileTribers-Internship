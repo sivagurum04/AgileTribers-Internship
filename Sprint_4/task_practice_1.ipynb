{
 "cells": [
  {
   "cell_type": "code",
   "execution_count": 1,
   "id": "4dcbe169",
   "metadata": {},
   "outputs": [],
   "source": [
    "import numpy as np\n",
    "from scipy.stats import ttest_ind, t, norm\n",
    "\n",
    "n1, mean1, std1 = 25, 70, 15\n",
    "n2, mean2, std2 = 20, 74, 25\n"
   ]
  },
  {
   "cell_type": "code",
   "execution_count": 2,
   "id": "1e025693",
   "metadata": {},
   "outputs": [
    {
     "name": "stdout",
     "output_type": "stream",
     "text": [
      "Class A Scores: [ 96.46078519  76.00235813  84.68106976 103.61339799  98.01336985\n",
      "  55.3408318   84.25132626  67.72964188  68.45171722  76.15897753\n",
      "  72.16065357  91.8141026   81.41556588  71.82512525  76.65794849\n",
      "  75.00511491  92.4111861   66.92262604  74.69601552  57.18856391\n",
      "  31.70515276  79.80427893  82.96654298  58.86752469 104.04631936]\n",
      "Class B Scores: [ 37.64085814  75.14396293  69.32040375 112.31948036 110.73396925\n",
      "  77.87368564  83.45406299  51.80535631  24.48008829  65.30219627\n",
      "  77.90872423 104.75726702 104.05949622  64.31682956  66.44243124\n",
      "  47.78617587  38.49955157  31.34324523 122.76938488  61.25869546]\n"
     ]
    }
   ],
   "source": [
    "np.random.seed(0)  \n",
    "classA = norm.rvs(loc=mean1, scale=std1, size=n1)\n",
    "classB = norm.rvs(loc=mean2, scale=std2, size=n2)\n",
    "print(\"Class A Scores:\", classA)\n",
    "print(\"Class B Scores:\", classB)"
   ]
  },
  {
   "cell_type": "code",
   "execution_count": 4,
   "id": "438ccbc7",
   "metadata": {},
   "outputs": [],
   "source": [
    "t_statistic, p_value = ttest_ind(classA, classB, equal_var=False)\n",
    "s1_sq = std1**2\n",
    "s2_sq = std2**2\n",
    "df = ((s1_sq/n1 + s2_sq/n2)**2) / ((s1_sq/n1)**2/(n1-1) + (s2_sq/n2)**2/(n2-1))"
   ]
  },
  {
   "cell_type": "code",
   "execution_count": 6,
   "id": "03905d7a",
   "metadata": {},
   "outputs": [
    {
     "name": "stdout",
     "output_type": "stream",
     "text": [
      "Two-Sample T-Test Results:\n",
      "T-Statistic = 0.8038\n",
      "Degrees of Freedom ≈ 29.58\n",
      "T-Critical (two-tailed, α=0.05) = 2.0435\n",
      "P-Value = 0.4281\n",
      "Result: Fail to Reject Null — No significant difference.\n"
     ]
    }
   ],
   "source": [
    "alpha = 0.05\n",
    "t_critical = t.ppf(1 - alpha/2, df)\n",
    "\n",
    "print(\"Two-Sample T-Test Results:\")\n",
    "print(\"T-Statistic =\", round(t_statistic, 4))\n",
    "print(\"Degrees of Freedom ≈\", round(df, 2))\n",
    "print(\"T-Critical (two-tailed, α=0.05) =\", round(t_critical, 4))\n",
    "print(\"P-Value =\", round(p_value, 4))\n",
    "\n",
    "if abs(t_statistic) > t_critical:\n",
    "    print(\"Result: Reject Null Hypothesis — Significant difference exists.\")\n",
    "else:\n",
    "    print(\"Result: Fail to Reject Null — No significant difference.\")\n"
   ]
  }
 ],
 "metadata": {
  "kernelspec": {
   "display_name": "Python 3",
   "language": "python",
   "name": "python3"
  },
  "language_info": {
   "codemirror_mode": {
    "name": "ipython",
    "version": 3
   },
   "file_extension": ".py",
   "mimetype": "text/x-python",
   "name": "python",
   "nbconvert_exporter": "python",
   "pygments_lexer": "ipython3",
   "version": "3.13.3"
  }
 },
 "nbformat": 4,
 "nbformat_minor": 5
}
