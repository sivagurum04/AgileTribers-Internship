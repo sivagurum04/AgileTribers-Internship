{
 "cells": [
  {
   "cell_type": "code",
   "execution_count": null,
   "id": "27cc8c46",
   "metadata": {},
   "outputs": [],
   "source": [
    "#job simulation task 1\n",
    "from scipy.stats import chi2\n",
    "observed = [23, 16, 14, 19, 28]\n",
    "expected = [20, 20, 20, 20, 20]"
   ]
  },
  {
   "cell_type": "code",
   "execution_count": 3,
   "id": "70bb12c7",
   "metadata": {},
   "outputs": [
    {
     "data": {
      "text/plain": [
       "6.300000000000001"
      ]
     },
     "execution_count": 3,
     "metadata": {},
     "output_type": "execute_result"
    }
   ],
   "source": [
    "chi_square_stat = sum((o - e) ** 2 / e for o, e in zip(observed, expected))\n",
    "chi_square_stat"
   ]
  },
  {
   "cell_type": "code",
   "execution_count": 4,
   "id": "36ae4374",
   "metadata": {},
   "outputs": [
    {
     "data": {
      "text/plain": [
       "np.float64(9.487729036781154)"
      ]
     },
     "execution_count": 4,
     "metadata": {},
     "output_type": "execute_result"
    }
   ],
   "source": [
    "df = len(expected) - 1\n",
    "critical_value = chi2.ppf(0.95, df)\n",
    "critical_value"
   ]
  },
  {
   "cell_type": "code",
   "execution_count": 5,
   "id": "9b5549fa",
   "metadata": {},
   "outputs": [
    {
     "name": "stdout",
     "output_type": "stream",
     "text": [
      "Fail to reject the null hypothesis: Absences are evenly distributed.\n"
     ]
    }
   ],
   "source": [
    "if chi_square_stat > critical_value:\n",
    "    print(\"Reject the null hypothesis: Absences are not evenly distributed.\")\n",
    "else:\n",
    "    print(\"Fail to reject the null hypothesis: Absences are evenly distributed.\")"
   ]
  },
  {
   "cell_type": "code",
   "execution_count": 8,
   "id": "93d78e4f",
   "metadata": {},
   "outputs": [],
   "source": [
    "#job simulation task 2\n",
    "from scipy.stats import ttest_rel\n",
    "before = [210, 220, 195, 230, 225, 200, 215, 205, 190, 210, 220, 200, 230, 225, 215]\n",
    "after  = [198, 215, 185, 210, 205, 190, 200, 195, 180, 195, 210, 185, 220, 210, 200]"
   ]
  },
  {
   "cell_type": "code",
   "execution_count": 9,
   "id": "c389bd1d",
   "metadata": {},
   "outputs": [
    {
     "data": {
      "text/plain": [
       "(np.float64(12.06412645855977), np.float64(8.734579195429294e-09))"
      ]
     },
     "execution_count": 9,
     "metadata": {},
     "output_type": "execute_result"
    }
   ],
   "source": [
    "t_stat, p_value = ttest_rel(before, after)\n",
    "t_stat, p_value"
   ]
  },
  {
   "cell_type": "code",
   "execution_count": 10,
   "id": "fa7277bf",
   "metadata": {},
   "outputs": [
    {
     "name": "stdout",
     "output_type": "stream",
     "text": [
      "Reject the null hypothesis: The diet had a significant effect.\n"
     ]
    }
   ],
   "source": [
    "alpha = 0.05\n",
    "if p_value < alpha:\n",
    "    print(\"Reject the null hypothesis: The diet had a significant effect.\")\n",
    "else:\n",
    "    print(\"Fail to reject the null hypothesis: No significant effect of the diet.\")\n"
   ]
  },
  {
   "cell_type": "code",
   "execution_count": 12,
   "id": "bdd2fed1",
   "metadata": {},
   "outputs": [],
   "source": [
    "# job simulation task 3\n",
    "from scipy.stats import ttest_ind\n",
    "control_group = [91, 87, 99, 77, 88, 91]\n",
    "treatment_group = [101, 110, 103, 93, 99, 104]"
   ]
  },
  {
   "cell_type": "code",
   "execution_count": 13,
   "id": "831fea8b",
   "metadata": {},
   "outputs": [
    {
     "data": {
      "text/plain": [
       "(np.float64(3.4456126735364876), np.float64(0.006272124350809802))"
      ]
     },
     "execution_count": 13,
     "metadata": {},
     "output_type": "execute_result"
    }
   ],
   "source": [
    "t_stat, p_value = ttest_ind(treatment_group, control_group)\n",
    "t_stat, p_value"
   ]
  },
  {
   "cell_type": "code",
   "execution_count": 14,
   "id": "397632a5",
   "metadata": {},
   "outputs": [
    {
     "name": "stdout",
     "output_type": "stream",
     "text": [
      "Reject the null hypothesis: There is a significant difference in reaction times.\n"
     ]
    }
   ],
   "source": [
    "alpha = 0.05\n",
    "if p_value < alpha:\n",
    "    print(\"Reject the null hypothesis: There is a significant difference in reaction times.\")\n",
    "else:\n",
    "    print(\"Fail to reject the null hypothesis: No significant difference in reaction times.\")"
   ]
  },
  {
   "cell_type": "code",
   "execution_count": 15,
   "id": "cf662047",
   "metadata": {},
   "outputs": [],
   "source": [
    "# job simulation task 4\n",
    "from scipy.stats import f_oneway\n",
    "group_a = [75, 78, 72, 70, 73]\n",
    "group_b = [85, 88, 84, 86, 87]\n",
    "group_c = [65, 68, 70, 66, 69]\n"
   ]
  },
  {
   "cell_type": "code",
   "execution_count": 16,
   "id": "d8e81f46",
   "metadata": {},
   "outputs": [
    {
     "data": {
      "text/plain": [
       "(np.float64(82.03726708074537), np.float64(1.0020933680540711e-07))"
      ]
     },
     "execution_count": 16,
     "metadata": {},
     "output_type": "execute_result"
    }
   ],
   "source": [
    "f_stat, p_val = f_oneway(group_a, group_b, group_c)\n",
    "f_stat, p_val"
   ]
  },
  {
   "cell_type": "code",
   "execution_count": 17,
   "id": "f0d2406e",
   "metadata": {},
   "outputs": [
    {
     "name": "stdout",
     "output_type": "stream",
     "text": [
      "Reject the null hypothesis: There is a significant difference in means.\n"
     ]
    }
   ],
   "source": [
    "alpha = 0.05\n",
    "if p_val < alpha:\n",
    "    print(\"Reject the null hypothesis: There is a significant difference in means.\")\n",
    "else:\n",
    "    print(\"Fail to reject the null hypothesis: No significant difference in means.\")\n"
   ]
  }
 ],
 "metadata": {
  "kernelspec": {
   "display_name": "Python 3",
   "language": "python",
   "name": "python3"
  },
  "language_info": {
   "codemirror_mode": {
    "name": "ipython",
    "version": 3
   },
   "file_extension": ".py",
   "mimetype": "text/x-python",
   "name": "python",
   "nbconvert_exporter": "python",
   "pygments_lexer": "ipython3",
   "version": "3.13.3"
  }
 },
 "nbformat": 4,
 "nbformat_minor": 5
}
