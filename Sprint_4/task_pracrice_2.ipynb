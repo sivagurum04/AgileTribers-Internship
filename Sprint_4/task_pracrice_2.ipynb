{
 "cells": [
  {
   "cell_type": "code",
   "execution_count": 2,
   "id": "3b5df9e8",
   "metadata": {},
   "outputs": [],
   "source": [
    "import numpy as np\n",
    "from scipy.stats import chi2, f\n",
    "\n",
    "group_a = [2, 3, 7, 2, 6]\n",
    "group_b = [10, 8, 7, 5, 10]\n",
    "group_c = [10, 13, 14, 13, 15]\n"
   ]
  },
  {
   "cell_type": "code",
   "execution_count": 3,
   "id": "ed13fbf4",
   "metadata": {},
   "outputs": [
    {
     "data": {
      "text/plain": [
       "(4.0, 8.0, 13.0)"
      ]
     },
     "execution_count": 3,
     "metadata": {},
     "output_type": "execute_result"
    }
   ],
   "source": [
    "mean_a = sum(group_a) / len(group_a)\n",
    "mean_b = sum(group_b) / len(group_b)\n",
    "mean_c = sum(group_c) / len(group_c)\n",
    "mean_a, mean_b, mean_c"
   ]
  },
  {
   "cell_type": "code",
   "execution_count": 4,
   "id": "e185710e",
   "metadata": {},
   "outputs": [
    {
     "data": {
      "text/plain": [
       "8.333333333333334"
      ]
     },
     "execution_count": 4,
     "metadata": {},
     "output_type": "execute_result"
    }
   ],
   "source": [
    "# Overall mean\n",
    "all_values = group_a + group_b + group_c\n",
    "overall_mean = sum(all_values) / len(all_values)\n",
    "overall_mean"
   ]
  },
  {
   "cell_type": "code",
   "execution_count": 5,
   "id": "51fc53f6",
   "metadata": {},
   "outputs": [
    {
     "data": {
      "text/plain": [
       "203.33333333333334"
      ]
     },
     "execution_count": 5,
     "metadata": {},
     "output_type": "execute_result"
    }
   ],
   "source": [
    "# Between-group variance\n",
    "n = len(group_a)  \n",
    "group_means = [mean_a, mean_b, mean_c]\n",
    "variance_between = sum(n * (m - overall_mean) ** 2 for m in group_means)\n",
    "variance_between\n"
   ]
  },
  {
   "cell_type": "code",
   "execution_count": 6,
   "id": "5158f446",
   "metadata": {},
   "outputs": [
    {
     "data": {
      "text/plain": [
       "54.0"
      ]
     },
     "execution_count": 6,
     "metadata": {},
     "output_type": "execute_result"
    }
   ],
   "source": [
    "# Within-group variance\n",
    "def squared_diff(values, mean):\n",
    "    return sum((x - mean) ** 2 for x in values)\n",
    "\n",
    "variance_within = (\n",
    "    squared_diff(group_a, mean_a)\n",
    "    + squared_diff(group_b, mean_b)\n",
    "    + squared_diff(group_c, mean_c)\n",
    ")\n",
    "variance_within"
   ]
  },
  {
   "cell_type": "code",
   "execution_count": 7,
   "id": "0263e076",
   "metadata": {},
   "outputs": [
    {
     "data": {
      "text/plain": [
       "(2, 12)"
      ]
     },
     "execution_count": 7,
     "metadata": {},
     "output_type": "execute_result"
    }
   ],
   "source": [
    "k = 3 \n",
    "N = len(all_values)\n",
    "df1 = k - 1\n",
    "df2 = N - k\n",
    "df1, df2"
   ]
  },
  {
   "cell_type": "code",
   "execution_count": 8,
   "id": "5d399521",
   "metadata": {},
   "outputs": [
    {
     "data": {
      "text/plain": [
       "22.592592592592595"
      ]
     },
     "execution_count": 8,
     "metadata": {},
     "output_type": "execute_result"
    }
   ],
   "source": [
    "\n",
    "f_statistic = (variance_between / df1) / (variance_within / df2)\n",
    "f_statistic\n"
   ]
  },
  {
   "cell_type": "code",
   "execution_count": 10,
   "id": "8560824f",
   "metadata": {},
   "outputs": [],
   "source": [
    "# TASK 2\n",
    "\n",
    "observed = [140, 160, 200]\n",
    "expected = [150, 100, 250]"
   ]
  },
  {
   "cell_type": "code",
   "execution_count": 11,
   "id": "2e409b58",
   "metadata": {},
   "outputs": [
    {
     "data": {
      "text/plain": [
       "46.666666666666664"
      ]
     },
     "execution_count": 11,
     "metadata": {},
     "output_type": "execute_result"
    }
   ],
   "source": [
    "# Chi-square calculation\n",
    "chi_square_stat = sum((o - e) ** 2 / e for o, e in zip(observed, expected))\n",
    "chi_square_stat"
   ]
  },
  {
   "cell_type": "code",
   "execution_count": 12,
   "id": "4e7c1452",
   "metadata": {},
   "outputs": [
    {
     "data": {
      "text/plain": [
       "np.float64(5.991464547107979)"
      ]
     },
     "execution_count": 12,
     "metadata": {},
     "output_type": "execute_result"
    }
   ],
   "source": [
    "from scipy.stats import chi2\n",
    "\n",
    "# Degrees of freedom = categories - 1 = 3 - 1 = 2\n",
    "critical_value = chi2.ppf(0.95, df=2)  # for 95% confidence level\n",
    "critical_value\n"
   ]
  }
 ],
 "metadata": {
  "kernelspec": {
   "display_name": "Python 3",
   "language": "python",
   "name": "python3"
  },
  "language_info": {
   "codemirror_mode": {
    "name": "ipython",
    "version": 3
   },
   "file_extension": ".py",
   "mimetype": "text/x-python",
   "name": "python",
   "nbconvert_exporter": "python",
   "pygments_lexer": "ipython3",
   "version": "3.13.3"
  }
 },
 "nbformat": 4,
 "nbformat_minor": 5
}
